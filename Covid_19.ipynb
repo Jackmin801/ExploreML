{
  "nbformat": 4,
  "nbformat_minor": 0,
  "metadata": {
    "colab": {
      "name": "Covid-19.ipynb",
      "provenance": [],
      "toc_visible": true
    },
    "kernelspec": {
      "name": "python3",
      "display_name": "Python 3"
    }
  },
  "cells": [
    {
      "cell_type": "code",
      "metadata": {
        "id": "4T_2-GxQVIda",
        "colab_type": "code",
        "colab": {}
      },
      "source": [
        "import numpy as np\n",
        "import matplotlib.pyplot as plt\n",
        "import math\n",
        "#from mpl_toolkits.mplot3d import Axes3D\n",
        "%matplotlib inline"
      ],
      "execution_count": 0,
      "outputs": []
    },
    {
      "cell_type": "code",
      "metadata": {
        "id": "QSp2CZgAUzk9",
        "colab_type": "code",
        "outputId": "63965acc-e0dc-4762-fe0e-c4b0f583d3dc",
        "colab": {
          "base_uri": "https://localhost:8080/",
          "height": 34
        }
      },
      "source": [
        "y=[9,15,30,40,56,66,84,102,131,159,173,186,190,221,248,278,330,354,382,461,481,526,587,608,697,781,896,999,1124,1212,1385,1715,2055,2429,2764,3323,4288,5364,6780,8559,10292,12746,14905,17873,21399,25404,29256]\n",
        "y= np.array(y)\n",
        "x= np.arange(0,len(y),1)\n",
        "print(len(y))\n"
      ],
      "execution_count": 0,
      "outputs": [
        {
          "output_type": "stream",
          "text": [
            "47\n"
          ],
          "name": "stdout"
        }
      ]
    },
    {
      "cell_type": "code",
      "metadata": {
        "id": "275QhKInVHlU",
        "colab_type": "code",
        "outputId": "41895588-c973-4771-ec4c-d1726a091d9f",
        "colab": {
          "base_uri": "https://localhost:8080/",
          "height": 296
        }
      },
      "source": [
        "plt.plot(x,y)\n",
        "plt.xlabel(\"Days since Jan22\")\n",
        "plt.ylabel(\"Number of Cases outside of China\")"
      ],
      "execution_count": 0,
      "outputs": [
        {
          "output_type": "execute_result",
          "data": {
            "text/plain": [
              "Text(0, 0.5, 'Number of Cases outside of China')"
            ]
          },
          "metadata": {
            "tags": []
          },
          "execution_count": 3
        },
        {
          "output_type": "display_data",
          "data": {
            "image/png": "[encoded data removed]",
            "text/plain": [
              "<Figure size 432x288 with 1 Axes>"
            ]
          },
          "metadata": {
            "tags": []
          }
        }
      ]
    },
    {
      "cell_type": "code",
      "metadata": {
        "id": "YsyAOgFDYL93",
        "colab_type": "code",
        "outputId": "1139bf01-099c-4f4d-9913-5ed22b1a45e4",
        "colab": {
          "base_uri": "https://localhost:8080/",
          "height": 418
        }
      },
      "source": [
        "log_y=np.log(y)\n",
        "print(log_y)\n",
        "plt.plot(x,log_y)\n"
      ],
      "execution_count": 0,
      "outputs": [
        {
          "output_type": "stream",
          "text": [
            "[ 2.19722458  2.7080502   3.40119738  3.68887945  4.02535169  4.18965474\n",
            "  4.4308168   4.62497281  4.87519732  5.0689042   5.15329159  5.22574667\n",
            "  5.24702407  5.3981627   5.51342875  5.62762111  5.79909265  5.86929691\n",
            "  5.94542061  6.13339804  6.17586727  6.26530121  6.37502482  6.41017488\n",
            "  6.54678541  6.66057515  6.79794041  6.90675478  7.02464903  7.10002717\n",
            "  7.23345542  7.44716836  7.62803113  7.79523493  7.92443418  8.10862327\n",
            "  8.3635757   8.58746524  8.82173238  9.05473864  9.23912217  9.45297278\n",
            "  9.60945201  9.79104647  9.97109947 10.14266192 10.28383996]\n"
          ],
          "name": "stdout"
        },
        {
          "output_type": "execute_result",
          "data": {
            "text/plain": [
              "[<matplotlib.lines.Line2D at 0x7fbb95335898>]"
            ]
          },
          "metadata": {
            "tags": []
          },
          "execution_count": 4
        },
        {
          "output_type": "display_data",
          "data": {
            "image/png": "[encoded data removed]",
            "text/plain": [
              "<Figure size 432x288 with 1 Axes>"
            ]
          },
          "metadata": {
            "tags": []
          }
        }
      ]
    },
    {
      "cell_type": "code",
      "metadata": {
        "id": "djG7hsq8oLoV",
        "colab_type": "code",
        "colab": {}
      },
      "source": [
        "def cost(X,Y,theta):\n",
        "  error= np.matmul(X,theta)-Y\n",
        "  return np.sum(( np.matmul(X.transpose(),error) )**2)/(2*len(Y))\n",
        "  "
      ],
      "execution_count": 0,
      "outputs": []
    },
    {
      "cell_type": "code",
      "metadata": {
        "id": "sPqtiH7-VwRW",
        "colab_type": "code",
        "colab": {}
      },
      "source": [
        "def standardize(M):\n",
        "  mean= np.mean(M)\n",
        "  std_dev= np.std(M)\n",
        "  N=[]\n",
        "  for i in M:\n",
        "    N.append((i-mean)/std_dev)\n",
        "\n",
        "  return np.array(N),mean,std_dev"
      ],
      "execution_count": 0,
      "outputs": []
    },
    {
      "cell_type": "code",
      "metadata": {
        "id": "rufhFiY5bOba",
        "colab_type": "code",
        "colab": {}
      },
      "source": [
        "def gradient_desc(X,Y,theta,alpha,iter):\n",
        "  print(\"Initial cost: {}\".format(cost(X,Y,theta)))\n",
        "  for i in range(iter):\n",
        "    error= np.matmul(X,theta)-Y\n",
        "    grad= ( np.matmul(X.transpose(),error) )/len(Y)\n",
        "    theta-= alpha*grad\n",
        "\n",
        "    if(i>=iter-5):\n",
        "      print(cost(X,Y,theta), grad)\n",
        "  return theta\n"
      ],
      "execution_count": 0,
      "outputs": []
    },
    {
      "cell_type": "code",
      "metadata": {
        "id": "iIcd3qnvVWQ9",
        "colab_type": "code",
        "outputId": "6bda5d74-de24-4c36-bfac-77ab6d61f133",
        "colab": {
          "base_uri": "https://localhost:8080/",
          "height": 51
        }
      },
      "source": [
        "ones=np.ones(len(x))\n",
        "std_x,mean,std_dev= standardize(x)\n",
        "X=np.stack([ones, std_x], axis=1)\n",
        "Y=np.transpose(log_y)\n",
        "print(X.shape)\n",
        "print(Y.shape)"
      ],
      "execution_count": 0,
      "outputs": [
        {
          "output_type": "stream",
          "text": [
            "(47, 2)\n",
            "(47,)\n"
          ],
          "name": "stdout"
        }
      ]
    },
    {
      "cell_type": "code",
      "metadata": {
        "id": "d48oSsAumJ79",
        "colab_type": "code",
        "outputId": "da618ef2-9e83-4783-cde3-2dec872cb22a",
        "colab": {
          "base_uri": "https://localhost:8080/",
          "height": 85
        }
      },
      "source": [
        "theta=np.array([0.0,0.0])\n",
        "theta=gradient_desc(X,Y,theta,1,2)\n",
        "print(theta)"
      ],
      "execution_count": 0,
      "outputs": [
        {
          "output_type": "stream",
          "text": [
            "Initial cost: 1120.2008738732982\n",
            "1.0934036998313508e-29 [-6.61362737 -1.98193221]\n",
            "2.809399084833806e-30 [ 5.95268515e-16 -3.33066907e-16]\n",
            "[6.61362737 1.98193221]\n"
          ],
          "name": "stdout"
        }
      ]
    },
    {
      "cell_type": "code",
      "metadata": {
        "id": "Elfzv3L1j-QF",
        "colab_type": "code",
        "outputId": "9f5e490b-30bd-412f-a68e-cfa1748dc70f",
        "colab": {
          "base_uri": "https://localhost:8080/",
          "height": 51
        }
      },
      "source": [
        "def predict(day,theta):\n",
        "  return np.dot([1,(day-mean)/std_dev],theta)\n",
        "\n",
        "print(theta)\n",
        "predict(20,theta)"
      ],
      "execution_count": 0,
      "outputs": [
        {
          "output_type": "stream",
          "text": [
            "[6.61362737 1.98193221]\n"
          ],
          "name": "stdout"
        },
        {
          "output_type": "execute_result",
          "data": {
            "text/plain": [
              "6.175297429114708"
            ]
          },
          "metadata": {
            "tags": []
          },
          "execution_count": 10
        }
      ]
    },
    {
      "cell_type": "code",
      "metadata": {
        "id": "lsNpxQZNjM-u",
        "colab_type": "code",
        "outputId": "91904786-5c69-4c5e-aff8-3de379591942",
        "colab": {
          "base_uri": "https://localhost:8080/",
          "height": 282
        }
      },
      "source": [
        "plt.plot(X[:,1],Y)\n",
        "pred=[]\n",
        "for i in x:\n",
        "  pred.append(predict(i,theta))\n",
        "plt.plot(X[:,1],pred)"
      ],
      "execution_count": 0,
      "outputs": [
        {
          "output_type": "execute_result",
          "data": {
            "text/plain": [
              "[<matplotlib.lines.Line2D at 0x7fbb953655f8>]"
            ]
          },
          "metadata": {
            "tags": []
          },
          "execution_count": 11
        },
        {
          "output_type": "display_data",
          "data": {
            "image/png": "[encoded data removed]",
            "text/plain": [
              "<Figure size 432x288 with 1 Axes>"
            ]
          },
          "metadata": {
            "tags": []
          }
        }
      ]
    },
    {
      "cell_type": "code",
      "metadata": {
        "id": "DtuGIgYPZBib",
        "colab_type": "code",
        "outputId": "3ee1c40d-118d-4ea4-fef5-5f00a81057e3",
        "colab": {
          "base_uri": "https://localhost:8080/",
          "height": 34
        }
      },
      "source": [
        "def true_predict(day,theta):\n",
        "  return math.exp(predict(day,theta))\n",
        "\n",
        "true_predict(46,theta)"
      ],
      "execution_count": 0,
      "outputs": [
        {
          "output_type": "execute_result",
          "data": {
            "text/plain": [
              "21464.526740863348"
            ]
          },
          "metadata": {
            "tags": []
          },
          "execution_count": 12
        }
      ]
    },
    {
      "cell_type": "code",
      "metadata": {
        "id": "qN8vEDK5lRpf",
        "colab_type": "code",
        "outputId": "98015dbf-c6be-41b7-c747-0b2a0e76ce8e",
        "colab": {
          "base_uri": "https://localhost:8080/",
          "height": 282
        }
      },
      "source": [
        "theta = [6.61362737,1.98193221]\n",
        "plt.plot(x,y)\n",
        "pred=[]\n",
        "for i in x:\n",
        "  pred.append(true_predict(i,theta))\n",
        "plt.plot(x,pred)"
      ],
      "execution_count": 0,
      "outputs": [
        {
          "output_type": "execute_result",
          "data": {
            "text/plain": [
              "[<matplotlib.lines.Line2D at 0x7fbb95269438>]"
            ]
          },
          "metadata": {
            "tags": []
          },
          "execution_count": 13
        },
        {
          "output_type": "display_data",
          "data": {
            "image/png": "[encoded data removed]",
            "text/plain": [
              "<Figure size 432x288 with 1 Axes>"
            ]
          },
          "metadata": {
            "tags": []
          }
        }
      ]
    },
    {
      "cell_type": "code",
      "metadata": {
        "id": "HdpMpeAH3ix8",
        "colab_type": "code",
        "outputId": "d09adb4b-daae-4dbf-fe8f-ebfb5adaa128",
        "colab": {
          "base_uri": "https://localhost:8080/",
          "height": 68
        }
      },
      "source": [
        "def NormalEq(X,Y):\n",
        "  square=np.matmul(X.transpose(),X)\n",
        "  print(square)\n",
        "  return np.matmul(np.linalg.inv(square), (np.matmul(X.transpose(),Y)) )\n",
        "\n",
        "NormalEq(X,Y)"
      ],
      "execution_count": 0,
      "outputs": [
        {
          "output_type": "stream",
          "text": [
            "[[ 4.70000000e+01 -2.66453526e-15]\n",
            " [-2.66453526e-15  4.70000000e+01]]\n"
          ],
          "name": "stdout"
        },
        {
          "output_type": "execute_result",
          "data": {
            "text/plain": [
              "array([6.61362737, 1.98193221])"
            ]
          },
          "metadata": {
            "tags": []
          },
          "execution_count": 14
        }
      ]
    },
    {
      "cell_type": "markdown",
      "metadata": {
        "id": "K0ud2FZN83mg",
        "colab_type": "text"
      },
      "source": [
        "<h1>༼ つ ◕_◕ ༽つ Graph. Why u liek dis</h1>\n"
      ]
    },
    {
      "cell_type": "code",
      "metadata": {
        "id": "zH-fQYQepF4Z",
        "colab_type": "code",
        "outputId": "f6b869f3-08b1-4cde-f880-bd12b051e75e",
        "colab": {
          "base_uri": "https://localhost:8080/",
          "height": 319
        }
      },
      "source": [
        "plt.plot(x,y)\n",
        "pred=[]\n",
        "for i in x:\n",
        "  pred.append(9*(1.19**i))\n",
        "print(pred)\n",
        "plt.plot(x,pred)"
      ],
      "execution_count": 0,
      "outputs": [
        {
          "output_type": "stream",
          "text": [
            "[9.0, 10.709999999999999, 12.7449, 15.166431, 18.048052889999997, 21.477182939099993, 25.557847697528995, 30.4138387600595, 36.19246812447081, 43.06903706812026, 51.2521541110631, 60.99006339216509, 72.57817543667645, 86.36802876964497, 102.77795423587752, 122.30576554069424, 145.54386099342614, 173.19719458217708, 206.10466155279073, 245.26454724782093, 291.86481122490693, 347.3191253576392, 413.30975917559067, 491.83861341895283, 585.2879499685539, 696.4926604625791, 828.8262659504691, 986.3032564810582, 1173.700875212459, 1396.7040415028264, 1662.0778093883632, 1977.8725931721522, 2353.668385874861, 2800.8653791910842, 3333.0298012373905, 3966.3054634724945, 4719.903501532268, 5616.685166823399, 6683.8553485198445, 7953.787864738614, 9465.00755903895, 11263.35899525635, 13403.397204355057, 15950.042673182516, 18980.550781087193, 22586.85542949376, 26878.357961097576]\n"
          ],
          "name": "stdout"
        },
        {
          "output_type": "execute_result",
          "data": {
            "text/plain": [
              "[<matplotlib.lines.Line2D at 0x7fbb92915c18>]"
            ]
          },
          "metadata": {
            "tags": []
          },
          "execution_count": 20
        },
        {
          "output_type": "display_data",
          "data": {
            "image/png": "[encoded data removed]",
            "text/plain": [
              "<Figure size 432x288 with 1 Axes>"
            ]
          },
          "metadata": {
            "tags": []
          }
        }
      ]
    },
    {
      "cell_type": "code",
      "metadata": {
        "id": "ZNG1J72irTvD",
        "colab_type": "code",
        "outputId": "b274b15c-d9b7-4e2b-a759-6772add0bfdf",
        "colab": {
          "base_uri": "https://localhost:8080/",
          "height": 102
        }
      },
      "source": [
        "ones=np.ones(len(x))\n",
        "X=np.stack([ones, x], axis=1)\n",
        "Y=np.transpose(log_y)\n",
        "print(X[[1,2,3],:])\n",
        "print(math.log(1.19))\n",
        "print(math.log(9))"
      ],
      "execution_count": 0,
      "outputs": [
        {
          "output_type": "stream",
          "text": [
            "[[1. 1.]\n",
            " [1. 2.]\n",
            " [1. 3.]]\n",
            "0.17395330712343798\n",
            "2.1972245773362196\n"
          ],
          "name": "stdout"
        }
      ]
    },
    {
      "cell_type": "code",
      "metadata": {
        "id": "IhhBRxjft6Hm",
        "colab_type": "code",
        "outputId": "90d6cb39-ccdd-4bd3-b8a7-77234cb47c22",
        "colab": {
          "base_uri": "https://localhost:8080/",
          "height": 153
        }
      },
      "source": [
        "theta= np.array([2.1972245773362196,0.17395330712343798])\n",
        "print(\"Cost of \\'answer\\': {}\".format(cost(X,Y,theta)))\n",
        "gradient_desc(X,Y,theta,0.001,100)"
      ],
      "execution_count": 0,
      "outputs": [
        {
          "output_type": "stream",
          "text": [
            "Cost of 'answer': 465.82340931303963\n",
            "Initial cost: 465.82340931303963\n",
            "1.6581817485914052 [-0.26556333  0.00856966]\n",
            "1.6573269130146548 [-0.26549487  0.00856745]\n",
            "1.6564725181277518 [-0.26542642  0.00856524]\n",
            "1.6556185637035106 [-0.265358    0.00856303]\n",
            "1.6547650495148623 [-0.26528959  0.00856082]\n"
          ],
          "name": "stdout"
        },
        {
          "output_type": "execute_result",
          "data": {
            "text/plain": [
              "array([2.22429584, 0.17930914])"
            ]
          },
          "metadata": {
            "tags": []
          },
          "execution_count": 20
        }
      ]
    },
    {
      "cell_type": "code",
      "metadata": {
        "id": "A3wFP5ns6cam",
        "colab_type": "code",
        "colab": {}
      },
      "source": [
        ""
      ],
      "execution_count": 0,
      "outputs": []
    },
    {
      "cell_type": "code",
      "metadata": {
        "id": "cR4lZLP1uIQz",
        "colab_type": "code",
        "colab": {}
      },
      "source": [
        ""
      ],
      "execution_count": 0,
      "outputs": []
    }
  ]
}
{
  "nbformat": 4,
  "nbformat_minor": 0,
  "metadata": {
    "colab": {
      "name": "Workshop1.ipynb",
      "provenance": [],
      "toc_visible": true
    },
    "kernelspec": {
      "name": "python3",
      "display_name": "Python 3"
    }
  },
  "cells": [
    {
      "cell_type": "code",
      "metadata": {
        "id": "rbr_8Cb9K8J2",
        "colab_type": "code",
        "colab": {}
      },
      "source": [
        "import numpy as np\n",
        "import matplotlib.pyplot as plt\n",
        "#from mpl_toolkits.mplot3d import Axes3D\n",
        "%matplotlib inline"
      ],
      "execution_count": 0,
      "outputs": []
    },
    {
      "cell_type": "code",
      "metadata": {
        "id": "vzQkXW33INh_",
        "colab_type": "code",
        "outputId": "1201523b-cd4a-4b9c-f868-a1a6f1a7654b",
        "colab": {
          "base_uri": "https://localhost:8080/",
          "height": 330
        }
      },
      "source": [
        "import random\n",
        "x=[]\n",
        "y=[]\n",
        "for i in range(20):\n",
        "  x.append(random.random()*220//1/10)\n",
        "  y.append((100+(x[i]*250/22 + random.random()*50)//1)/100)\n",
        "print('x=',end=\"\")\n",
        "print(x)\n",
        "print('y=',end=\"\")\n",
        "print(y)\n",
        "plt.scatter(x,y,marker='x')\n",
        "plt.grid()\n",
        "plt.xlabel(\"Hours of Lecture/Tutorials attended per week\")\n",
        "plt.ylabel(\"GPA\")"
      ],
      "execution_count": 2,
      "outputs": [
        {
          "output_type": "stream",
          "text": [
            "x=[20.9, 1.6, 8.6, 12.6, 13.0, 20.3, 18.0, 5.9, 7.1, 10.9, 0.3, 12.5, 5.2, 10.3, 21.4, 17.1, 16.7, 4.4, 6.0, 11.8]\n",
            "y=[3.72, 1.33, 2.01, 2.71, 2.93, 3.43, 3.31, 2.0, 2.12, 2.27, 1.44, 2.82, 1.69, 2.34, 3.77, 3.42, 3.01, 1.87, 2.13, 2.43]\n"
          ],
          "name": "stdout"
        },
        {
          "output_type": "execute_result",
          "data": {
            "text/plain": [
              "Text(0, 0.5, 'GPA')"
            ]
          },
          "metadata": {
            "tags": []
          },
          "execution_count": 2
        },
        {
          "output_type": "display_data",
          "data": {
            "image/png": "[encoded data removed]",
            "text/plain": [
              "<Figure size 432x288 with 1 Axes>"
            ]
          },
          "metadata": {
            "tags": []
          }
        }
      ]
    },
    {
      "cell_type": "code",
      "metadata": {
        "id": "_tVzYJVgZGKk",
        "colab_type": "code",
        "colab": {
          "base_uri": "https://localhost:8080/",
          "height": 296
        },
        "outputId": "abeed75f-2f13-4af3-f58d-0acb379354b2"
      },
      "source": [
        "x=[2.5, 21.1, 10.3, 19.5, 0.8, 20.5, 7.9, 10.7, 11.9, 6.6, 15.2, 17.7, 15.6, 16.5, 8.5, 3.1, 14.9, 21.9, 6.5, 9.8]\n",
        "y=[1.56, 3.4, 2.28, 3.63, 1.19, 3.76, 1.95, 2.71, 2.73, 2.1, 2.91, 3.34, 2.99, 2.95, 2.45, 1.74, 3.17, 3.62, 1.73, 2.24]\n",
        "X=np.array(x)\n",
        "Y=np.array(y)\n",
        "plt.scatter(X,Y,marker='x')\n",
        "plt.xlabel(\"Hours of Lecture/Tutorials attended per week\")\n",
        "plt.ylabel(\"GPA\")"
      ],
      "execution_count": 3,
      "outputs": [
        {
          "output_type": "execute_result",
          "data": {
            "text/plain": [
              "Text(0, 0.5, 'GPA')"
            ]
          },
          "metadata": {
            "tags": []
          },
          "execution_count": 3
        },
        {
          "output_type": "display_data",
          "data": {
            "image/png": "[encoded data removed]",
            "text/plain": [
              "<Figure size 432x288 with 1 Axes>"
            ]
          },
          "metadata": {
            "tags": []
          }
        }
      ]
    },
    {
      "cell_type": "code",
      "metadata": {
        "id": "3gr9Jq2ldZk-",
        "colab_type": "code",
        "colab": {}
      },
      "source": [
        "def cost_func_plot(x,y,m,c):\n",
        "  pred=[]\n",
        "  for i in x:\n",
        "    pred.append(m*i+c)\n",
        "  dist=pred-y\n",
        "  cost=0\n",
        "  for d in dist:\n",
        "    cost+=d**2\n",
        "  cost/= len(x)*2\n",
        "  #Plot Stuff\n",
        "  plt.scatter(x,y,marker ='x')\n",
        "  plt.xlabel(\"Hours of Lecture/Tutorials attended per week\")\n",
        "  plt.ylabel(\"GPA\")\n",
        "  plt.grid()\n",
        "  plt.plot(x,pred)\n",
        "  print(dist)\n",
        "  print(\"Cost: {}\".format(cost))\n",
        "\n",
        "def cost_func(x,y,m,c):\n",
        "  pred=[]\n",
        "  for i in x:\n",
        "    pred.append(m*i+c)\n",
        "  dist=pred-y\n",
        "  cost=0\n",
        "  for d in dist:\n",
        "    cost+=d**2\n",
        "  cost/= len(x)*2\n",
        "\n",
        "  return cost\n"
      ],
      "execution_count": 0,
      "outputs": []
    },
    {
      "cell_type": "code",
      "metadata": {
        "id": "kGBdnLoY3Oka",
        "colab_type": "code",
        "colab": {
          "base_uri": "https://localhost:8080/",
          "height": 330
        },
        "outputId": "fc8e1ad4-ede3-4ea9-cdc2-61c9c1fc584f"
      },
      "source": [
        "cost_func_plot(X,Y,0.1,1)"
      ],
      "execution_count": 5,
      "outputs": [
        {
          "output_type": "stream",
          "text": [
            "[-0.31 -0.29 -0.25 -0.68 -0.11 -0.71 -0.16 -0.64 -0.54 -0.44 -0.39 -0.57\n",
            " -0.43 -0.3  -0.6  -0.43 -0.68 -0.43 -0.08 -0.26]\n",
            "Cost: 0.10399499999999995\n"
          ],
          "name": "stdout"
        },
        {
          "output_type": "display_data",
          "data": {
            "image/png": "[encoded data removed]",
            "text/plain": [
              "<Figure size 432x288 with 1 Axes>"
            ]
          },
          "metadata": {
            "tags": []
          }
        }
      ]
    },
    {
      "cell_type": "code",
      "metadata": {
        "id": "knnhAgotmoPm",
        "colab_type": "code",
        "colab": {
          "base_uri": "https://localhost:8080/",
          "height": 330
        },
        "outputId": "c88a9a42-e0ad-4543-efc2-ebd6f478c1d8"
      },
      "source": [
        "cost_func_plot(X,Y,0.2,1)"
      ],
      "execution_count": 6,
      "outputs": [
        {
          "output_type": "stream",
          "text": [
            "[-0.06  1.82  0.78  1.27 -0.03  1.34  0.63  0.43  0.65  0.22  1.13  1.2\n",
            "  1.13  1.35  0.25 -0.12  0.81  1.76  0.57  0.72]\n",
            "Cost: 0.47191750000000016\n"
          ],
          "name": "stdout"
        },
        {
          "output_type": "display_data",
          "data": {
            "image/png": "[encoded data removed]",
            "text/plain": [
              "<Figure size 432x288 with 1 Axes>"
            ]
          },
          "metadata": {
            "tags": []
          }
        }
      ]
    },
    {
      "cell_type": "code",
      "metadata": {
        "id": "l1ZJP0V9npGa",
        "colab_type": "code",
        "colab": {}
      },
      "source": [
        "def find_gradient(x,y,m,c):\n",
        "  pred=[]\n",
        "  for i in x:\n",
        "    pred.append(m*i+c)\n",
        "  dist=pred-y\n",
        "  grad=0\n",
        "  for i in range(len(x)):\n",
        "    grad+=dist[i]*x[i]\n",
        "  grad/= len(x)\n",
        "\n",
        "  return grad"
      ],
      "execution_count": 0,
      "outputs": []
    },
    {
      "cell_type": "code",
      "metadata": {
        "id": "xuJ_KiLo90Or",
        "colab_type": "code",
        "colab": {
          "base_uri": "https://localhost:8080/",
          "height": 34
        },
        "outputId": "3a148c2e-54f1-4ed6-8738-75297f903b94"
      },
      "source": [
        "find_gradient(X,Y,0.14,1)"
      ],
      "execution_count": 8,
      "outputs": [
        {
          "output_type": "execute_result",
          "data": {
            "text/plain": [
              "1.8279900000000033"
            ]
          },
          "metadata": {
            "tags": []
          },
          "execution_count": 8
        }
      ]
    },
    {
      "cell_type": "code",
      "metadata": {
        "id": "HNueuPEm8F7k",
        "colab_type": "code",
        "colab": {
          "base_uri": "https://localhost:8080/",
          "height": 51
        },
        "outputId": "e4617ece-e5ef-4389-82b4-3a5c2da7776f"
      },
      "source": [
        "print(np.arange(0,2,0.1))"
      ],
      "execution_count": 9,
      "outputs": [
        {
          "output_type": "stream",
          "text": [
            "[0.  0.1 0.2 0.3 0.4 0.5 0.6 0.7 0.8 0.9 1.  1.1 1.2 1.3 1.4 1.5 1.6 1.7\n",
            " 1.8 1.9]\n"
          ],
          "name": "stdout"
        }
      ]
    },
    {
      "cell_type": "code",
      "metadata": {
        "id": "H7KEIeiamlEC",
        "colab_type": "code",
        "colab": {}
      },
      "source": [
        "def grad_plot(p):\n",
        "  grad=find_gradient(X,Y,p,1)\n",
        "  y_intercept= cost_func(X,Y,p,1)-grad*p\n",
        "  I=np.arange(-0.14,0.4,0.001)\n",
        "  \n",
        "  C=[]\n",
        "  for i in I:\n",
        "    C.append(cost_func(X,Y,i,1))\n",
        "  plt.plot(I,C)\n",
        " \n",
        "  B=[]\n",
        "  for i in I:\n",
        "    B.append(grad*i + y_intercept)\n",
        "  print(\"Gradient: {}\".format(grad))\n",
        "  plt.plot(I,B)"
      ],
      "execution_count": 0,
      "outputs": []
    },
    {
      "cell_type": "code",
      "metadata": {
        "id": "fUIsPNHSszQj",
        "colab_type": "code",
        "colab": {
          "base_uri": "https://localhost:8080/",
          "height": 282
        },
        "outputId": "5120ccd0-d5f7-4d5c-be20-51b48663d4fc"
      },
      "source": [
        "grad_plot(0.2)"
      ],
      "execution_count": 11,
      "outputs": [
        {
          "output_type": "stream",
          "text": [
            "Gradient: 12.935400000000001\n"
          ],
          "name": "stdout"
        },
        {
          "output_type": "display_data",
          "data": {
            "image/png": "[encoded data removed]",
            "text/plain": [
              "<Figure size 432x288 with 1 Axes>"
            ]
          },
          "metadata": {
            "tags": []
          }
        }
      ]
    },
    {
      "cell_type": "code",
      "metadata": {
        "id": "5aunzQJr8yYe",
        "colab_type": "code",
        "colab": {
          "base_uri": "https://localhost:8080/",
          "height": 282
        },
        "outputId": "a8b9cb91-1db3-421a-9d21-ad621db4048a"
      },
      "source": [
        "grad_plot(0.05)"
      ],
      "execution_count": 12,
      "outputs": [
        {
          "output_type": "stream",
          "text": [
            "Gradient: -14.833124999999999\n"
          ],
          "name": "stdout"
        },
        {
          "output_type": "display_data",
          "data": {
            "image/png": "[encoded data removed]",
            "text/plain": [
              "<Figure size 432x288 with 1 Axes>"
            ]
          },
          "metadata": {
            "tags": []
          }
        }
      ]
    },
    {
      "cell_type": "code",
      "metadata": {
        "id": "8m4WQ3SN-yaf",
        "colab_type": "code",
        "colab": {}
      },
      "source": [
        "def gradient_descent(a,iter):\n",
        "  for i in range(iter):\n",
        "    print(\"Iteration {}\".format(i+1))\n",
        "    print(\"Point: {}\".format(a))\n",
        "    print(\"Cost: {}\".format(cost_func(X,Y,a,1)))\n",
        "    grad=find_gradient(X,Y,a,1)\n",
        "    print(\"Gradient: {}\".format(grad))\n",
        "    #a-= grad\n",
        "    a-= 0.002*grad\n",
        "    print()\n"
      ],
      "execution_count": 0,
      "outputs": []
    },
    {
      "cell_type": "code",
      "metadata": {
        "id": "BsFBcpJ9BR7s",
        "colab_type": "code",
        "colab": {
          "base_uri": "https://localhost:8080/",
          "height": 272
        },
        "outputId": "66465259-8380-4321-e103-a17a9a82726c"
      },
      "source": [
        "gradient_descent(0.2,3)"
      ],
      "execution_count": 18,
      "outputs": [
        {
          "output_type": "stream",
          "text": [
            "Iteration 1\n",
            "Point: 0.2\n",
            "Cost: 0.47191750000000016\n",
            "Gradient: 12.935400000000001\n",
            "\n",
            "Iteration 2\n",
            "Point: 0.1741292\n",
            "Cost: 0.19921977491877063\n",
            "Gradient: 8.146106956200004\n",
            "\n",
            "Iteration 3\n",
            "Point: 0.1578369860876\n",
            "Cost: 0.0910709001830148\n",
            "Gradient: 5.130035293987818\n",
            "\n"
          ],
          "name": "stdout"
        }
      ]
    },
    {
      "cell_type": "code",
      "metadata": {
        "id": "LLEiIMf6BT7h",
        "colab_type": "code",
        "colab": {
          "base_uri": "https://localhost:8080/",
          "height": 272
        },
        "outputId": "16126681-39ae-45d3-a0d1-c3bf9a16d693"
      },
      "source": [
        "gradient_descent(0.1,3)"
      ],
      "execution_count": 19,
      "outputs": [
        {
          "output_type": "stream",
          "text": [
            "Iteration 1\n",
            "Point: 0.1\n",
            "Cost: 0.10399499999999995\n",
            "Gradient: -5.576949999999997\n",
            "\n",
            "Iteration 2\n",
            "Point: 0.1111539\n",
            "Cost: 0.05330581706263669\n",
            "Gradient: -3.512100993349999\n",
            "\n",
            "Iteration 3\n",
            "Point: 0.1181781019867\n",
            "Cost: 0.03320305274981467\n",
            "Gradient: -2.211756136865144\n",
            "\n"
          ],
          "name": "stdout"
        }
      ]
    },
    {
      "cell_type": "code",
      "metadata": {
        "id": "05A0gNtSD0_X",
        "colab_type": "code",
        "colab": {
          "base_uri": "https://localhost:8080/",
          "height": 1000
        },
        "outputId": "e7b1246a-d0bc-4ecf-9db2-ba354fc757d5"
      },
      "source": [
        "gradient_descent(0.1,50)"
      ],
      "execution_count": 20,
      "outputs": [
        {
          "output_type": "stream",
          "text": [
            "Iteration 1\n",
            "Point: 0.1\n",
            "Cost: 0.10399499999999995\n",
            "Gradient: -5.576949999999997\n",
            "\n",
            "Iteration 2\n",
            "Point: 0.1111539\n",
            "Cost: 0.05330581706263669\n",
            "Gradient: -3.512100993349999\n",
            "\n",
            "Iteration 3\n",
            "Point: 0.1181781019867\n",
            "Cost: 0.03320305274981467\n",
            "Gradient: -2.211756136865144\n",
            "\n",
            "Iteration 4\n",
            "Point: 0.12260161426043029\n",
            "Cost: 0.025230520749915452\n",
            "Gradient: -1.3928600624592342\n",
            "\n",
            "Iteration 5\n",
            "Point: 0.12538733438534874\n",
            "Cost: 0.022068703524168273\n",
            "Gradient: -0.8771578029138922\n",
            "\n",
            "Iteration 6\n",
            "Point: 0.12714164999117653\n",
            "Cost: 0.020814762095126886\n",
            "Gradient: -0.5523927578584324\n",
            "\n",
            "Iteration 7\n",
            "Point: 0.12824643550689338\n",
            "Cost: 0.020317462917090204\n",
            "Gradient: -0.3478709964396229\n",
            "\n",
            "Iteration 8\n",
            "Point: 0.12894217749977263\n",
            "Cost: 0.02012023961243791\n",
            "Gradient: -0.21907280362084142\n",
            "\n",
            "Iteration 9\n",
            "Point: 0.1293803231070143\n",
            "Cost: 0.02004202305062589\n",
            "Gradient: -0.1379617552986374\n",
            "\n",
            "Iteration 10\n",
            "Point: 0.12965624661761158\n",
            "Cost: 0.02001100323502914\n",
            "Gradient: -0.08688182928458331\n",
            "\n",
            "Iteration 11\n",
            "Point: 0.12983001027618074\n",
            "Cost: 0.019998701122313334\n",
            "Gradient: -0.05471409263745449\n",
            "\n",
            "Iteration 12\n",
            "Point: 0.12993943846145564\n",
            "Cost: 0.019993822241689392\n",
            "Gradient: -0.03445636398071649\n",
            "\n",
            "Iteration 13\n",
            "Point: 0.1300083511894171\n",
            "Cost: 0.019991887332077317\n",
            "Gradient: -0.021698998585945616\n",
            "\n",
            "Iteration 14\n",
            "Point: 0.130051749186589\n",
            "Cost: 0.019991119968516827\n",
            "Gradient: -0.01366500945649286\n",
            "\n",
            "Iteration 15\n",
            "Point: 0.13007907920550196\n",
            "Cost: 0.01999081564069172\n",
            "Gradient: -0.008605580700257201\n",
            "\n",
            "Iteration 16\n",
            "Point: 0.13009629036690248\n",
            "Cost: 0.01999069494767228\n",
            "Gradient: -0.005419390262728518\n",
            "\n",
            "Iteration 17\n",
            "Point: 0.13010712914742795\n",
            "Cost: 0.019990647082167582\n",
            "Gradient: -0.003412877276122428\n",
            "\n",
            "Iteration 18\n",
            "Point: 0.1301139549019802\n",
            "Cost: 0.019990628099242555\n",
            "Gradient: -0.0021492697032707286\n",
            "\n",
            "Iteration 19\n",
            "Point: 0.13011825344138672\n",
            "Cost: 0.01999062057082631\n",
            "Gradient: -0.0013535090434460384\n",
            "\n",
            "Iteration 20\n",
            "Point: 0.1301209604594736\n",
            "Cost: 0.019990617585140435\n",
            "Gradient: -0.0008523763806376011\n",
            "\n",
            "Iteration 21\n",
            "Point: 0.1301226652122349\n",
            "Cost: 0.019990616401050744\n",
            "Gradient: -0.0005367865828335205\n",
            "\n",
            "Iteration 22\n",
            "Point: 0.13012373878540057\n",
            "Cost: 0.019990615931453976\n",
            "Gradient: -0.00033804296089734177\n",
            "\n",
            "Iteration 23\n",
            "Point: 0.13012441487132237\n",
            "Cost: 0.01999061574521715\n",
            "Gradient: -0.00021288356875304726\n",
            "\n",
            "Iteration 24\n",
            "Point: 0.1301248406384599\n",
            "Cost: 0.01999061567135769\n",
            "Gradient: -0.0001340640660710185\n",
            "\n",
            "Iteration 25\n",
            "Point: 0.13012510876659203\n",
            "Cost: 0.01999061564206588\n",
            "Gradient: -8.442724780012567e-05\n",
            "\n",
            "Iteration 26\n",
            "Point: 0.13012527762108764\n",
            "Cost: 0.019990615630449054\n",
            "Gradient: -5.316831258267984e-05\n",
            "\n",
            "Iteration 27\n",
            "Point: 0.1301253839577128\n",
            "Cost: 0.019990615625841954\n",
            "Gradient: -3.348290435245538e-05\n",
            "\n",
            "Iteration 28\n",
            "Point: 0.1301254509235215\n",
            "Cost: 0.019990615624014833\n",
            "Gradient: -2.108595946515024e-05\n",
            "\n",
            "Iteration 29\n",
            "Point: 0.13012549309544044\n",
            "Cost: 0.019990615623290207\n",
            "Gradient: -1.3278946231620736e-05\n",
            "\n",
            "Iteration 30\n",
            "Point: 0.1301255196533329\n",
            "Cost: 0.01999061562300284\n",
            "Gradient: -8.362456225224912e-06\n",
            "\n",
            "Iteration 31\n",
            "Point: 0.13012553637824537\n",
            "Cost: 0.019990615622888862\n",
            "Gradient: -5.266281894403258e-06\n",
            "\n",
            "Iteration 32\n",
            "Point: 0.13012554691080916\n",
            "Cost: 0.019990615622843665\n",
            "Gradient: -3.316456820187663e-06\n",
            "\n",
            "Iteration 33\n",
            "Point: 0.1301255535437228\n",
            "Cost: 0.019990615622825753\n",
            "Gradient: -2.0885486333749316e-06\n",
            "\n",
            "Iteration 34\n",
            "Point: 0.13012555772082007\n",
            "Cost: 0.01999061562281863\n",
            "Gradient: -1.3152697651924728e-06\n",
            "\n",
            "Iteration 35\n",
            "Point: 0.1301255603513596\n",
            "Cost: 0.01999061562281583\n",
            "Gradient: -8.282950799826105e-07\n",
            "\n",
            "Iteration 36\n",
            "Point: 0.13012556200794978\n",
            "Cost: 0.019990615622814692\n",
            "Gradient: -5.2162130831368e-07\n",
            "\n",
            "Iteration 37\n",
            "Point: 0.13012556305119238\n",
            "Cost: 0.019990615622814244\n",
            "Gradient: -3.2849258599365605e-07\n",
            "\n",
            "Iteration 38\n",
            "Point: 0.13012556370817754\n",
            "Cost: 0.019990615622814074\n",
            "Gradient: -2.0686919483536847e-07\n",
            "\n",
            "Iteration 39\n",
            "Point: 0.13012556412191592\n",
            "Cost: 0.01999061562281401\n",
            "Gradient: -1.3027649842234368e-07\n",
            "\n",
            "Iteration 40\n",
            "Point: 0.13012556438246892\n",
            "Cost: 0.019990615622813977\n",
            "Gradient: -8.20420153702095e-08\n",
            "\n",
            "Iteration 41\n",
            "Point: 0.13012556454655294\n",
            "Cost: 0.019990615622813974\n",
            "Gradient: -5.166620613283879e-08\n",
            "\n",
            "Iteration 42\n",
            "Point: 0.13012556464988537\n",
            "Cost: 0.019990615622813963\n",
            "Gradient: -3.253694672578078e-08\n",
            "\n",
            "Iteration 43\n",
            "Point: 0.13012556471495926\n",
            "Cost: 0.01999061562281396\n",
            "Gradient: -2.0490240426607188e-08\n",
            "\n",
            "Iteration 44\n",
            "Point: 0.13012556475593973\n",
            "Cost: 0.019990615622813963\n",
            "Gradient: -1.2903792176444107e-08\n",
            "\n",
            "Iteration 45\n",
            "Point: 0.1301255647817473\n",
            "Cost: 0.019990615622813963\n",
            "Gradient: -8.126203870917337e-09\n",
            "\n",
            "Iteration 46\n",
            "Point: 0.13012556479799972\n",
            "Cost: 0.019990615622813967\n",
            "Gradient: -5.1174982890200836e-09\n",
            "\n",
            "Iteration 47\n",
            "Point: 0.13012556480823473\n",
            "Cost: 0.019990615622813963\n",
            "Gradient: -3.222758210297272e-09\n",
            "\n",
            "Iteration 48\n",
            "Point: 0.13012556481468024\n",
            "Cost: 0.01999061562281395\n",
            "Gradient: -2.0295425312566452e-09\n",
            "\n",
            "Iteration 49\n",
            "Point: 0.13012556481873933\n",
            "Cost: 0.019990615622813956\n",
            "Gradient: -1.2781113639670493e-09\n",
            "\n",
            "Iteration 50\n",
            "Point: 0.13012556482129556\n",
            "Cost: 0.01999061562281396\n",
            "Gradient: -8.048926497528086e-10\n",
            "\n"
          ],
          "name": "stdout"
        }
      ]
    },
    {
      "cell_type": "code",
      "metadata": {
        "id": "a88pwxVTD4n9",
        "colab_type": "code",
        "colab": {
          "base_uri": "https://localhost:8080/",
          "height": 347
        },
        "outputId": "c4b20a0a-011c-4317-d6b5-480dccd8d4bd"
      },
      "source": [
        "cost_func_plot(X,Y,0.13013,1)"
      ],
      "execution_count": 21,
      "outputs": [
        {
          "output_type": "stream",
          "text": [
            "[-0.234675  0.345743  0.060339 -0.092465 -0.085896 -0.092335  0.078027\n",
            " -0.317609 -0.181453 -0.241142  0.067976 -0.036699  0.040028  0.197145\n",
            " -0.343895 -0.336597 -0.231063  0.229847  0.115845  0.035274]\n",
            "Cost: 0.019990617443575\n"
          ],
          "name": "stdout"
        },
        {
          "output_type": "display_data",
          "data": {
            "image/png": "[encoded data removed]",
            "text/plain": [
              "<Figure size 432x288 with 1 Axes>"
            ]
          },
          "metadata": {
            "tags": []
          }
        }
      ]
    },
    {
      "cell_type": "code",
      "metadata": {
        "id": "7NxUp7-BFLBl",
        "colab_type": "code",
        "colab": {}
      },
      "source": [
        "def find_gradient(x,y,m,c):\n",
        "  pred=[]\n",
        "  for i in x:\n",
        "    pred.append(m*i+c)\n",
        "  dist=pred-y\n",
        "  grad0=0\n",
        "  grad1=0\n",
        "  for i in range(len(x)):\n",
        "    grad0+=dist[i]\n",
        "    grad1+=dist[i]*x[i]\n",
        "  grad0/= len(x)\n",
        "  grad1/= len(x)\n",
        "\n",
        "  return grad0,grad1"
      ],
      "execution_count": 0,
      "outputs": []
    },
    {
      "cell_type": "code",
      "metadata": {
        "id": "RU2z5L7WIe4-",
        "colab_type": "code",
        "colab": {}
      },
      "source": [
        "def gradient_descent_two(m,c,iter):\n",
        "  for i in range(iter):  \n",
        "    grad=find_gradient(X,Y,m,c)\n",
        "    if(i>=iter-3):\n",
        "      print(\"Iteration {}\".format(i+1))\n",
        "      print(\"Point: {} {}\".format(c,m))\n",
        "      print(\"Cost: {}\".format(cost_func(X,Y,m,c)))\n",
        "      print(\"Gradient: {}\".format(grad))\n",
        "      print()\n",
        "    \n",
        "    m-= 0.002*grad[1]\n",
        "    c-= 0.002*grad[0]\n",
        "    #b-= 0.25*grad[0]\n",
        "    "
      ],
      "execution_count": 0,
      "outputs": []
    },
    {
      "cell_type": "code",
      "metadata": {
        "id": "xxK0hLC_IYzd",
        "colab_type": "code",
        "colab": {
          "base_uri": "https://localhost:8080/",
          "height": 272
        },
        "outputId": "33120e85-3ef9-4f38-ca1c-ceb1abd50b84"
      },
      "source": [
        "gradient_descent_two(0.1,0,100)"
      ],
      "execution_count": 47,
      "outputs": [
        {
          "output_type": "stream",
          "text": [
            "Iteration 98\n",
            "Point: 0.05586204528726425 0.19179702264481563\n",
            "Cost: 0.1630237517498329\n",
            "Gradient: (-0.25068890627658696, 0.01637031843124328)\n",
            "\n",
            "Iteration 99\n",
            "Point: 0.05636342309981743 0.19176428200795315\n",
            "Cost: 0.1628975526147766\n",
            "Gradient: (-0.2505828716541482, 0.016363394229610882)\n",
            "\n",
            "Iteration 100\n",
            "Point: 0.05686458884312572 0.19173155521949392\n",
            "Cost: 0.1627714602147793\n",
            "Gradient: (-0.25047688188148526, 0.016356472956724644)\n",
            "\n"
          ],
          "name": "stdout"
        }
      ]
    },
    {
      "cell_type": "code",
      "metadata": {
        "id": "YeeiN1EFGZv8",
        "colab_type": "code",
        "colab": {
          "base_uri": "https://localhost:8080/",
          "height": 272
        },
        "outputId": "ddeadbae-4704-4224-aa6a-55c5ae6d7940"
      },
      "source": [
        "gradient_descent_two(0.1,1.25,100)"
      ],
      "execution_count": 48,
      "outputs": [
        {
          "output_type": "stream",
          "text": [
            "Iteration 98\n",
            "Point: 1.2505097092475943 0.11378494399865284\n",
            "Cost: 0.013820243894072628\n",
            "Gradient: (0.0019629080313273706, -0.0001281805006893455)\n",
            "\n",
            "Iteration 99\n",
            "Point: 1.2505057834315316 0.11378520035965423\n",
            "Cost: 0.013820236156832926\n",
            "Gradient: (0.0019620777743564076, -0.0001281262838064401)\n",
            "\n",
            "Iteration 100\n",
            "Point: 1.250501859275983 0.11378545661222184\n",
            "Cost: 0.013820228426137149\n",
            "Gradient: (0.0019612478685614885, -0.00012807208985881057)\n",
            "\n"
          ],
          "name": "stdout"
        }
      ]
    },
    {
      "cell_type": "code",
      "metadata": {
        "id": "WMz2VEebHRUY",
        "colab_type": "code",
        "colab": {
          "base_uri": "https://localhost:8080/",
          "height": 364
        },
        "outputId": "a1cc9ed1-3ff5-4963-cb9d-5a726d74b612"
      },
      "source": [
        "cost_func_plot(X,Y,0.1137726,1.25)"
      ],
      "execution_count": 34,
      "outputs": [
        {
          "output_type": "stream",
          "text": [
            "[-0.0255685   0.25060186  0.14185778 -0.1614343   0.15101808 -0.1776617\n",
            "  0.19880354 -0.24263318 -0.12610606 -0.09910084  0.06934352 -0.07622498\n",
            "  0.03485256  0.1772479  -0.2329329  -0.13730494 -0.22478826  0.12161994\n",
            "  0.2595219   0.12497148]\n",
            "Cost: 0.013819464943839437\n"
          ],
          "name": "stdout"
        },
        {
          "output_type": "display_data",
          "data": {
            "image/png": "[encoded data removed]",
            "text/plain": [
              "<Figure size 432x288 with 1 Axes>"
            ]
          },
          "metadata": {
            "tags": []
          }
        }
      ]
    },
    {
      "cell_type": "code",
      "metadata": {
        "id": "FIF4Sdk7HlXU",
        "colab_type": "code",
        "colab": {}
      },
      "source": [
        "def standardize(M):\n",
        "  mean= np.mean(M)\n",
        "  std_dev= np.std(M)\n",
        "  N=[]\n",
        "  for i in M:\n",
        "    N.append((i-mean)/std_dev)\n",
        "\n",
        "  return N,mean,std_dev\n"
      ],
      "execution_count": 0,
      "outputs": []
    },
    {
      "cell_type": "code",
      "metadata": {
        "id": "apPR-Wf05r-3",
        "colab_type": "code",
        "colab": {}
      },
      "source": [
        "old_X=X\n"
      ],
      "execution_count": 0,
      "outputs": []
    },
    {
      "cell_type": "code",
      "metadata": {
        "id": "33H44zoyQuOu",
        "colab_type": "code",
        "colab": {
          "base_uri": "https://localhost:8080/",
          "height": 54
        },
        "outputId": "6bb8498d-a112-43e2-81fd-fa488d49a3f2"
      },
      "source": [
        "X,mean,std_dev= standardize(old_X)\n",
        "print(X)"
      ],
      "execution_count": 52,
      "outputs": [
        {
          "output_type": "stream",
          "text": [
            "[-1.5270166196419872, 1.4393028712552411, -0.28307618797540757, 1.1841356032210708, -1.798131841928293, 1.343615145742427, -0.6658270900266628, -0.21928437096686526, -0.027908919941237474, -0.8731504953044262, 0.4983735703792383, 0.8970724266826292, 0.5621653873877809, 0.7056969756570017, -0.5701393645138492, -1.4313288941291735, 0.45052970762283157, 1.5668865052723258, -0.8890984495565618, -0.3628159592360858]\n"
          ],
          "name": "stdout"
        }
      ]
    },
    {
      "cell_type": "code",
      "metadata": {
        "id": "sPI_xyUFRCTG",
        "colab_type": "code",
        "colab": {}
      },
      "source": [
        "def gradient_descent_two(m,c,iter):\n",
        "  for i in range(iter):  \n",
        "    grad=find_gradient(X,Y,m,c)\n",
        "    if(i>=iter-3):\n",
        "      print(\"Iteration {}\".format(i+1))\n",
        "      print(\"Point: {} {}\".format(m,c))\n",
        "      print(\"Cost: {}\".format(cost_func(X,Y,m,c)))\n",
        "      print(\"Gradient: {}\".format(grad))\n",
        "      print()\n",
        "    \n",
        "    m-= grad[1]\n",
        "    c-= grad[0]"
      ],
      "execution_count": 0,
      "outputs": []
    },
    {
      "cell_type": "code",
      "metadata": {
        "id": "l-WKC7ds748v",
        "colab_type": "code",
        "colab": {
          "base_uri": "https://localhost:8080/",
          "height": 272
        },
        "outputId": "7982a280-f63c-4511-a496-2c5a4a840024"
      },
      "source": [
        "gradient_descent_two(0,0,3)"
      ],
      "execution_count": 54,
      "outputs": [
        {
          "output_type": "stream",
          "text": [
            "Iteration 1\n",
            "Point: 0 0\n",
            "Cost: 3.7098075\n",
            "Gradient: (-2.6225000000000005, -0.7172771839383334)\n",
            "\n",
            "Iteration 2\n",
            "Point: 0.7172771839383334 2.6225000000000005\n",
            "Cost: 0.013811095700746798\n",
            "Gradient: (3.774758283725532e-16, -4.583139423530724e-16)\n",
            "\n",
            "Iteration 3\n",
            "Point: 0.7172771839383338 2.6225\n",
            "Cost: 0.013811095700746795\n",
            "Gradient: (-6.661338147750939e-17, -4.8572257327350596e-18)\n",
            "\n"
          ],
          "name": "stdout"
        }
      ]
    },
    {
      "cell_type": "code",
      "metadata": {
        "id": "OyrDj__m8S6Y",
        "colab_type": "code",
        "colab": {
          "base_uri": "https://localhost:8080/",
          "height": 364
        },
        "outputId": "26f9c7f5-be31-4b8d-8bae-4a9aac68c417"
      },
      "source": [
        "cost_func_plot(X,Y,0.7,2.6)"
      ],
      "execution_count": 55,
      "outputs": [
        {
          "output_type": "stream",
          "text": [
            "[-0.02891163  0.20751201  0.12184667 -0.20110508  0.15130771 -0.2194694\n",
            "  0.18392104 -0.26349906 -0.14953624 -0.11120535  0.0388615  -0.1120493\n",
            "  0.00351577  0.14398788 -0.24909756 -0.14193023 -0.2546292   0.07682055\n",
            "  0.24763109  0.10602883]\n",
            "Cost: 0.014213471243166317\n"
          ],
          "name": "stdout"
        },
        {
          "output_type": "display_data",
          "data": {
            "image/png": "[encoded data removed]",
            "text/plain": [
              "<Figure size 432x288 with 1 Axes>"
            ]
          },
          "metadata": {
            "tags": []
          }
        }
      ]
    },
    {
      "cell_type": "code",
      "metadata": {
        "id": "t6hl_WL288F-",
        "colab_type": "code",
        "colab": {}
      },
      "source": [
        "def predict(x):\n",
        "  x=(x-mean)/std_dev\n",
        "  return 0.7*x+2.6"
      ],
      "execution_count": 0,
      "outputs": []
    },
    {
      "cell_type": "code",
      "metadata": {
        "id": "UFeNBb1e91UX",
        "colab_type": "code",
        "colab": {
          "base_uri": "https://localhost:8080/",
          "height": 34
        },
        "outputId": "793e8053-f4c6-4ef4-a2ea-cb43b1178c07"
      },
      "source": [
        "predict(20)"
      ],
      "execution_count": 60,
      "outputs": [
        {
          "output_type": "execute_result",
          "data": {
            "text/plain": [
              "3.4847127621372245"
            ]
          },
          "metadata": {
            "tags": []
          },
          "execution_count": 60
        }
      ]
    },
    {
      "cell_type": "code",
      "metadata": {
        "id": "d7glzmCC2i6g",
        "colab_type": "code",
        "colab": {}
      },
      "source": [
        ""
      ],
      "execution_count": 0,
      "outputs": []
    },
    {
      "cell_type": "code",
      "metadata": {
        "id": "3O391LusQuxw",
        "colab_type": "code",
        "colab": {}
      },
      "source": [
        "#Vectorization\n",
        "#Derived/Composite features\n",
        "#Polynomial features"
      ],
      "execution_count": 0,
      "outputs": []
    }
  ]
}
